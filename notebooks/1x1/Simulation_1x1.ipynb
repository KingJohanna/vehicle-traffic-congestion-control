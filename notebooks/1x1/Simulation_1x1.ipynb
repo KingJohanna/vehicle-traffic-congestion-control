{
 "cells": [
  {
   "cell_type": "code",
   "execution_count": 1,
   "id": "7989e360-ff93-4c8a-8a95-51ca01e73602",
   "metadata": {},
   "outputs": [],
   "source": [
    "import sys\n",
    "sys.path.append('../../src')\n",
    "\n",
    "from TrafficLight import PeriodicTrafficLight, AdaptiveTrafficLight, TrafficLightMirror\n",
    "import Model1\n",
    "import Model2\n",
    "from ModelEvaluation import Evaluator, MultiEvaluator\n",
    "import matplotlib.pyplot as plt\n",
    "import numpy as np\n",
    "from IPython.display import HTML\n",
    "import pickle"
   ]
  },
  {
   "cell_type": "code",
   "execution_count": 2,
   "id": "0ba4b3bf-f3f5-41e9-96bc-9e406139758f",
   "metadata": {},
   "outputs": [],
   "source": [
    "output_path = '../../data/'"
   ]
  },
  {
   "cell_type": "markdown",
   "id": "146a6b79-3a79-49db-a859-757ad8a99484",
   "metadata": {},
   "source": [
    "*Periodic traffic lights*"
   ]
  },
  {
   "cell_type": "code",
   "execution_count": 3,
   "id": "d76e2a57-e170-43a4-a9ab-a07c2bc5c922",
   "metadata": {},
   "outputs": [],
   "source": [
    "light_ew = PeriodicTrafficLight()\n",
    "light_ew.initialize(period=30, time_delay=0, green_ratio=0.8)\n",
    "\n",
    "light_ns = TrafficLightMirror()\n",
    "light_ns.initialize(traffic_light=light_ew)"
   ]
  },
  {
   "cell_type": "markdown",
   "id": "ffaed2d5-3a2b-4f32-8938-600d3e38edf9",
   "metadata": {},
   "source": [
    "*Adaptive traffic lights*"
   ]
  },
  {
   "cell_type": "code",
   "execution_count": 4,
   "id": "5648ce91-28d2-42d3-9100-39ed5f5021b5",
   "metadata": {},
   "outputs": [],
   "source": [
    "light_ew = AdaptiveTrafficLight()\n",
    "light_ew.initialize(sensor_depth=8, rule=2)\n",
    "\n",
    "light_ns = TrafficLightMirror()\n",
    "light_ns.initialize(traffic_light=light_ew)"
   ]
  },
  {
   "cell_type": "code",
   "execution_count": 5,
   "id": "92807061-622c-4884-acb0-8f0dc2b8ddeb",
   "metadata": {},
   "outputs": [],
   "source": [
    "network = Model1.IntersectionNetworkSimulator()\n",
    "network.initialize(grid_dimensions=(1,1))\n",
    "network.set_queue_rate_parameters(grid_ind=(0,0), avg_departure_time=0.5, arrival_rate_n=lambda t: 0.1+0.001*t, arrival_rate_e=lambda t: 1/3, arrival_rate_s=lambda t: 1/4, arrival_rate_w=lambda t: 1/3, platoon_size_distribution=[0.5,0.5])\n",
    "network.set_traffic_lights(grid_ind=(0,0), traffic_light_ns=light_ns, traffic_light_ew=light_ew)\n",
    "network.set_observable_intersections(grid_inds=network.grid_inds)"
   ]
  },
  {
   "cell_type": "code",
   "execution_count": 6,
   "id": "0f510ba2-4b10-4f95-bc32-91f7413bf43b",
   "metadata": {},
   "outputs": [
    {
     "data": {
      "image/png": "[encoded data removed]",
      "text/plain": [
       "<Figure size 360x360 with 1 Axes>"
      ]
     },
     "metadata": {
      "needs_background": "light"
     },
     "output_type": "display_data"
    }
   ],
   "source": [
    "network.simulate(delta_t=0.1, end_time=100, animate=True, fig_width=4, output_destination=\"../../data/vids/\", file_name=\"simulation_1x1.mp4\", speed=1)"
   ]
  },
  {
   "cell_type": "code",
   "execution_count": 7,
   "id": "5602f52f-d751-455a-9b73-54945ad0a633",
   "metadata": {},
   "outputs": [
    {
     "name": "stdout",
     "output_type": "stream",
     "text": [
      "Average wait time: 4.24666666666666 s\n",
      "Average queue length:  0.7802197802197802 vehicles\n"
     ]
    }
   ],
   "source": [
    "stats = network.get_stats()\n",
    "print(\"Average wait time:\", stats[(0,0)][\"N\"][\"wait_time\"], \"s\")\n",
    "print(\"Average queue length: \", stats[(0,0)][\"N\"][\"avg_queue_length\"], \"vehicles\")"
   ]
  },
  {
   "cell_type": "code",
   "execution_count": 8,
   "id": "ca0ac49b-4f9b-459b-9a7d-8f20ac708302",
   "metadata": {},
   "outputs": [
    {
     "name": "stdout",
     "output_type": "stream",
     "text": [
      "Average wait time: 2.2729166666666654 s\n",
      "Average queue length:  1.7812187812187812 vehicles\n"
     ]
    }
   ],
   "source": [
    "print(\"Average wait time:\", stats[(0,0)][\"E\"][\"wait_time\"], \"s\")\n",
    "print(\"Average queue length: \", stats[(0,0)][\"E\"][\"avg_queue_length\"], \"vehicles\")"
   ]
  },
  {
   "cell_type": "code",
   "execution_count": null,
   "id": "5db9c9c9-5120-4cd7-aec0-406d1dc4fbd9",
   "metadata": {},
   "outputs": [],
   "source": [
    "fig, axs = network.plot_queue_stats(plt=plt, grid_ind=(0,0), direction='W', end_time=1000, delta_t=0.1, traffic_light=light_ns,fig_size=(6,8))\n",
    "plt.savefig(output_path+'figs/eastbound_(0,0)', bbox_inches='tight')"
   ]
  },
  {
   "cell_type": "code",
   "execution_count": null,
   "id": "41a7493b-e599-4e4f-beb4-6e5ec0d7a48d",
   "metadata": {},
   "outputs": [],
   "source": []
  }
 ],
 "metadata": {
  "kernelspec": {
   "display_name": "Python 3 (ipykernel)",
   "language": "python",
   "name": "python3"
  },
  "language_info": {
   "codemirror_mode": {
    "name": "ipython",
    "version": 3
   },
   "file_extension": ".py",
   "mimetype": "text/x-python",
   "name": "python",
   "nbconvert_exporter": "python",
   "pygments_lexer": "ipython3",
   "version": "3.10.4"
  }
 },
 "nbformat": 4,
 "nbformat_minor": 5
}
