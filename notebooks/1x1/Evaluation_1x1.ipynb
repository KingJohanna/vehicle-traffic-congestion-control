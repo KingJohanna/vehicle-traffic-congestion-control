{
 "cells": [
  {
   "cell_type": "code",
   "execution_count": 2,
   "id": "9657706e-e624-4ac8-a5c0-3f314ce654c7",
   "metadata": {},
   "outputs": [],
   "source": [
    "import sys\n",
    "sys.path.append('././src/')\n",
    "\n",
    "from TrafficLight import PeriodicTrafficLight, AdaptiveTrafficLight, TrafficLightMirror\n",
    "import Model1\n",
    "import Model2\n",
    "from ModelEvaluation import Evaluator, MultiEvaluator\n",
    "import matplotlib.pyplot as plt"
   ]
  },
  {
   "cell_type": "code",
   "execution_count": 2,
   "id": "9cd290f5-c7f3-411e-9921-e329aa46a98d",
   "metadata": {},
   "outputs": [],
   "source": [
    "plt.rcParams.update({\n",
    "    \"text.usetex\": True,\n",
    "    \"font.family\": \"sans-serif\",\n",
    "    \"font.sans-serif\": [\"Helvetica\"]})"
   ]
  },
  {
   "cell_type": "code",
   "execution_count": 3,
   "id": "c0961eef-8594-4930-a2d2-9332080a2924",
   "metadata": {},
   "outputs": [],
   "source": [
    "output_path = '././data/'"
   ]
  },
  {
   "cell_type": "markdown",
   "id": "4507e40c-c0ff-4b27-90a0-59d2fc2be938",
   "metadata": {},
   "source": [
    "*Periodic traffic lights*"
   ]
  },
  {
   "cell_type": "code",
   "execution_count": 41,
   "id": "df4962d4-9cac-49fe-95da-642477f8452f",
   "metadata": {},
   "outputs": [],
   "source": [
    "light_ew = PeriodicTrafficLight()\n",
    "light_ew.initialize(period=30, time_delay=0)\n",
    "\n",
    "light_ns = TrafficLightMirror()\n",
    "light_ns.initialize(traffic_light=light_ew)"
   ]
  },
  {
   "cell_type": "markdown",
   "id": "80537b05-1611-4c5a-8186-0153ca389af8",
   "metadata": {},
   "source": [
    "*Adaptive traffic lights*"
   ]
  },
  {
   "cell_type": "code",
   "execution_count": 16,
   "id": "cc0d2604-257f-4c24-af6a-e4d5889214bc",
   "metadata": {},
   "outputs": [],
   "source": [
    "light_ew = AdaptiveTrafficLight()\n",
    "light_ew.initialize(sensor_depth=8, rule=2)\n",
    "\n",
    "light_ns = TrafficLightMirror()\n",
    "light_ns.initialize(traffic_light=light_ew)"
   ]
  },
  {
   "cell_type": "markdown",
   "id": "9e99a75a-d62b-4ab0-a4f3-51235cf20407",
   "metadata": {},
   "source": [
    "*Single four-way intersection*"
   ]
  },
  {
   "cell_type": "code",
   "execution_count": 42,
   "id": "17618c09-bee1-4bef-9b36-924a73a76e06",
   "metadata": {},
   "outputs": [],
   "source": [
    "network = Model1.IntersectionNetworkSimulator()\n",
    "network.initialize(grid_dimensions=(1,1))\n",
    "network.set_queue_rate_parameters(grid_ind=(0,0), avg_departure_time=0.5, avg_arrival_time_n=4, avg_arrival_time_e=3, avg_arrival_time_s=4, avg_arrival_time_w=3)\n",
    "network.set_traffic_lights(grid_ind=(0,0), traffic_light_ns=light_ns, traffic_light_ew=light_ew)\n",
    "network.set_observable_intersections(grid_inds=network.grid_inds)"
   ]
  },
  {
   "cell_type": "markdown",
   "id": "e28468db-3b35-4213-8352-8d47036110d0",
   "metadata": {},
   "source": [
    "*Evaluation*"
   ]
  },
  {
   "cell_type": "code",
   "execution_count": 9,
   "id": "dd50f092-d0a7-476a-8d10-be17e5617742",
   "metadata": {},
   "outputs": [],
   "source": [
    "evaluators = []"
   ]
  },
  {
   "cell_type": "code",
   "execution_count": 18,
   "id": "c85c554d-aabf-414f-b5c1-5397550fc2ef",
   "metadata": {},
   "outputs": [
    {
     "name": "stdout",
     "output_type": "stream",
     "text": [
      "Finished 10 trials.\n",
      "Finished 20 trials.\n",
      "Finished 30 trials.\n",
      "Finished 40 trials.\n",
      "Finished 50 trials.\n",
      "Finished 60 trials.\n",
      "Finished 70 trials.\n",
      "Finished 80 trials.\n",
      "Finished 90 trials.\n",
      "Finished 100 trials.\n",
      "Finished 110 trials.\n",
      "Finished 120 trials.\n",
      "Finished 130 trials.\n",
      "Finished 140 trials.\n",
      "Finished 150 trials.\n",
      "Finished 160 trials.\n",
      "Finished 170 trials.\n",
      "Finished 180 trials.\n",
      "Finished 190 trials.\n",
      "Finished 200 trials.\n",
      "Finished 210 trials.\n",
      "Finished 220 trials.\n",
      "Finished 230 trials.\n",
      "Finished 240 trials.\n",
      "Finished 250 trials.\n",
      "Finished 260 trials.\n",
      "Finished 270 trials.\n",
      "Finished 280 trials.\n",
      "Finished 290 trials.\n",
      "Finished 300 trials.\n"
     ]
    }
   ],
   "source": [
    "evaluator = Evaluator()\n",
    "network.set_traffic_lights(grid_ind=(0,0), traffic_light_ns=light_ns, traffic_light_ew=light_ew)\n",
    "evaluator.initialize(network=network)\n",
    "output = evaluator.simulate(num_trials=300, end_time=1000, delta_t=0.1)\n",
    "average = evaluator.compute_average()\n",
    "evaluators += [evaluator]"
   ]
  },
  {
   "cell_type": "code",
   "execution_count": null,
   "id": "7908b9ee-3ec1-49f3-aee3-4b92d0b2eb68",
   "metadata": {},
   "outputs": [],
   "source": [
    "green_ratios = [0.45,0.5,0.55,0.6,0.65]\n",
    "evaluators = []\n",
    "\n",
    "for green_ratio in green_ratios:\n",
    "    evaluator = Evaluator()\n",
    "    network.intersections[(0,0)].traffic_light_ew.green_ratio=green_ratio\n",
    "    evaluator.initialize(network=network)\n",
    "    output = evaluator.simulate(num_trials=300, end_time=1000, delta_t=0.1)\n",
    "    average = evaluator.compute_average()\n",
    "\n",
    "    evaluators += [evaluator]"
   ]
  },
  {
   "cell_type": "code",
   "execution_count": 43,
   "id": "a7e72283-2b34-4598-a389-3d2ee075526c",
   "metadata": {},
   "outputs": [
    {
     "name": "stdout",
     "output_type": "stream",
     "text": [
      "Finished 10 trials.\n",
      "Finished 20 trials.\n",
      "Finished 30 trials.\n",
      "Finished 40 trials.\n",
      "Finished 50 trials.\n",
      "Finished 60 trials.\n",
      "Finished 70 trials.\n",
      "Finished 80 trials.\n",
      "Finished 90 trials.\n",
      "Finished 100 trials.\n",
      "Finished 110 trials.\n",
      "Finished 120 trials.\n",
      "Finished 130 trials.\n",
      "Finished 140 trials.\n",
      "Finished 150 trials.\n",
      "Finished 160 trials.\n",
      "Finished 170 trials.\n",
      "Finished 180 trials.\n",
      "Finished 190 trials.\n",
      "Finished 200 trials.\n",
      "Finished 210 trials.\n",
      "Finished 220 trials.\n",
      "Finished 230 trials.\n",
      "Finished 240 trials.\n",
      "Finished 250 trials.\n",
      "Finished 260 trials.\n",
      "Finished 270 trials.\n",
      "Finished 280 trials.\n",
      "Finished 290 trials.\n",
      "Finished 300 trials.\n",
      "Finished 10 trials.\n",
      "Finished 20 trials.\n",
      "Finished 30 trials.\n",
      "Finished 40 trials.\n",
      "Finished 50 trials.\n",
      "Finished 60 trials.\n",
      "Finished 70 trials.\n",
      "Finished 80 trials.\n",
      "Finished 90 trials.\n",
      "Finished 100 trials.\n",
      "Finished 110 trials.\n",
      "Finished 120 trials.\n",
      "Finished 130 trials.\n",
      "Finished 140 trials.\n",
      "Finished 150 trials.\n",
      "Finished 160 trials.\n",
      "Finished 170 trials.\n",
      "Finished 180 trials.\n",
      "Finished 190 trials.\n",
      "Finished 200 trials.\n",
      "Finished 210 trials.\n",
      "Finished 220 trials.\n",
      "Finished 230 trials.\n",
      "Finished 240 trials.\n",
      "Finished 250 trials.\n",
      "Finished 260 trials.\n",
      "Finished 270 trials.\n",
      "Finished 280 trials.\n",
      "Finished 290 trials.\n",
      "Finished 300 trials.\n",
      "Finished 10 trials.\n",
      "Finished 20 trials.\n",
      "Finished 30 trials.\n",
      "Finished 40 trials.\n",
      "Finished 50 trials.\n",
      "Finished 60 trials.\n",
      "Finished 70 trials.\n",
      "Finished 80 trials.\n",
      "Finished 90 trials.\n",
      "Finished 100 trials.\n",
      "Finished 110 trials.\n",
      "Finished 120 trials.\n",
      "Finished 130 trials.\n",
      "Finished 140 trials.\n",
      "Finished 150 trials.\n",
      "Finished 160 trials.\n",
      "Finished 170 trials.\n",
      "Finished 180 trials.\n",
      "Finished 190 trials.\n",
      "Finished 200 trials.\n",
      "Finished 210 trials.\n",
      "Finished 220 trials.\n",
      "Finished 230 trials.\n",
      "Finished 240 trials.\n",
      "Finished 250 trials.\n",
      "Finished 260 trials.\n",
      "Finished 270 trials.\n",
      "Finished 280 trials.\n",
      "Finished 290 trials.\n",
      "Finished 300 trials.\n",
      "Finished 10 trials.\n",
      "Finished 20 trials.\n",
      "Finished 30 trials.\n",
      "Finished 40 trials.\n",
      "Finished 50 trials.\n",
      "Finished 60 trials.\n",
      "Finished 70 trials.\n",
      "Finished 80 trials.\n",
      "Finished 90 trials.\n",
      "Finished 100 trials.\n",
      "Finished 110 trials.\n",
      "Finished 120 trials.\n",
      "Finished 130 trials.\n",
      "Finished 140 trials.\n",
      "Finished 150 trials.\n",
      "Finished 160 trials.\n",
      "Finished 170 trials.\n",
      "Finished 180 trials.\n",
      "Finished 190 trials.\n",
      "Finished 200 trials.\n",
      "Finished 210 trials.\n",
      "Finished 220 trials.\n",
      "Finished 230 trials.\n",
      "Finished 240 trials.\n",
      "Finished 250 trials.\n",
      "Finished 260 trials.\n",
      "Finished 270 trials.\n",
      "Finished 280 trials.\n",
      "Finished 290 trials.\n",
      "Finished 300 trials.\n",
      "Finished 10 trials.\n",
      "Finished 20 trials.\n",
      "Finished 30 trials.\n",
      "Finished 40 trials.\n",
      "Finished 50 trials.\n",
      "Finished 60 trials.\n",
      "Finished 70 trials.\n",
      "Finished 80 trials.\n",
      "Finished 90 trials.\n",
      "Finished 100 trials.\n",
      "Finished 110 trials.\n",
      "Finished 120 trials.\n",
      "Finished 130 trials.\n",
      "Finished 140 trials.\n",
      "Finished 150 trials.\n",
      "Finished 160 trials.\n",
      "Finished 170 trials.\n",
      "Finished 180 trials.\n",
      "Finished 190 trials.\n",
      "Finished 200 trials.\n",
      "Finished 210 trials.\n",
      "Finished 220 trials.\n",
      "Finished 230 trials.\n",
      "Finished 240 trials.\n",
      "Finished 250 trials.\n",
      "Finished 260 trials.\n",
      "Finished 270 trials.\n",
      "Finished 280 trials.\n",
      "Finished 290 trials.\n",
      "Finished 300 trials.\n"
     ]
    }
   ],
   "source": [
    "durations = [10,30,50,70,90]\n",
    "evaluators = []\n",
    "\n",
    "for duration in durations:\n",
    "    evaluator = Evaluator()\n",
    "    network.intersections[(0,0)].traffic_light_ew.period=duration\n",
    "    evaluator.initialize(network=network)\n",
    "    output = evaluator.simulate(num_trials=300, end_time=1000, delta_t=0.1)\n",
    "    average = evaluator.compute_average()\n",
    "\n",
    "    evaluators += [evaluator]"
   ]
  },
  {
   "cell_type": "code",
   "execution_count": 44,
   "id": "1b3c335c-472f-4402-98e1-85a03e512cb4",
   "metadata": {},
   "outputs": [],
   "source": [
    "multi_eval = MultiEvaluator()\n",
    "multi_eval.initialize(evaluators=evaluators, labels=durations, variable=\"cycle length\")"
   ]
  },
  {
   "cell_type": "code",
   "execution_count": 11,
   "id": "1530ad5d-f171-4a5a-a6b8-96dbee1b805f",
   "metadata": {},
   "outputs": [],
   "source": [
    "evaluators = list(multi_eval.evaluators.values())\n",
    "e_dict = {}\n",
    "for i,label in enumerate(['$A_2$', '$B$', '$C$']):\n",
    "    e_dict[label] = evaluators[i]\n",
    "multi_eval.evaluators = e_dict\n",
    "multi_eval.variable = \"Scenario\""
   ]
  },
  {
   "cell_type": "code",
   "execution_count": 12,
   "id": "76783251-e6f7-4219-aac8-f9851dbea0a8",
   "metadata": {},
   "outputs": [],
   "source": [
    "multi_eval.save_to_file(file_name=\"periodic_vs_adaptive1&2.pkl\")"
   ]
  },
  {
   "cell_type": "code",
   "execution_count": 6,
   "id": "42970bf8-f39c-448b-96b9-6b642c23c4da",
   "metadata": {},
   "outputs": [],
   "source": [
    "multi_eval = MultiEvaluator()\n",
    "multi_eval = multi_eval.read_file(file_name=\"periodic_vs_adaptive1&2.pkl\")"
   ]
  },
  {
   "cell_type": "code",
   "execution_count": 5,
   "id": "84ea55cf-2dc7-4ba1-ac20-83f93e7f4e70",
   "metadata": {},
   "outputs": [],
   "source": [
    "evaluator = list(multi_eval.evaluators.values())[1]\n",
    "evaluator.save_to_file(file_name=\"periodic_30s_0.5\")"
   ]
  },
  {
   "cell_type": "code",
   "execution_count": 13,
   "id": "f9714a7c-702f-436d-921c-3755d1833e75",
   "metadata": {},
   "outputs": [
    {
     "data": {
      "image/png": "[encoded data removed]",
      "text/plain": [
       "<Figure size 1080x540 with 4 Axes>"
      ]
     },
     "metadata": {
      "needs_background": "light"
     },
     "output_type": "display_data"
    }
   ],
   "source": [
    "fig,axs = multi_eval.plot_intersection_averages(plt=plt, grid_ind=(0,0), fig_size=(12,6), plot_tot_switches=False)\n",
    "plt.savefig(output_path+'figs/intersection_avgs', bbox_inches='tight')"
   ]
  },
  {
   "cell_type": "code",
   "execution_count": null,
   "id": "2c7e8c06-4ce1-41a2-8b51-3cd973e6f160",
   "metadata": {},
   "outputs": [],
   "source": [
    "fig,axs = multi_eval.plot_queue_averages(plt=plt, grid_ind=(0,0), fig_size=(4,5))\n",
    "plt.savefig(output_path+'figs/queue_avgs', bbox_inches='tight')"
   ]
  },
  {
   "cell_type": "code",
   "execution_count": null,
   "id": "2b6f316d-2227-4c3b-9f51-fdfbb315fb82",
   "metadata": {},
   "outputs": [],
   "source": [
    "fig,axs = multi_eval.plot_avg_wait_times(plt=plt, fig_size=(7,2))\n",
    "plt.savefig(output_path+'figs/wait_times', bbox_inches='tight')"
   ]
  },
  {
   "cell_type": "code",
   "execution_count": 14,
   "id": "06e7d5b8-f3d5-4ce7-96a2-19d16cdb4d21",
   "metadata": {},
   "outputs": [
    {
     "data": {
      "image/png": "[encoded data removed]",
      "text/plain": [
       "<Figure size 360x270 with 1 Axes>"
      ]
     },
     "metadata": {
      "needs_background": "light"
     },
     "output_type": "display_data"
    }
   ],
   "source": [
    "fig,ax = multi_eval.compare_metrics(plt=plt, x_axis=\"tot_switches_ew\", y_axis=\"avg_wait_time\", grid_ind=(0,0), fig_size=(4,3))\n",
    "ax.set(xlabel=\"green-to-red switches (EW)\", ylabel=\"avg. wait time [s]\")\n",
    "ax.set_title(\"Average cumulative waiting time vs. red-to-green switches\")\n",
    "plt.savefig(output_path+'figs/payoff', bbox_inches='tight')"
   ]
  },
  {
   "cell_type": "code",
   "execution_count": 37,
   "id": "9bfd22d9-3053-4ccb-844b-e9c6663f4d10",
   "metadata": {},
   "outputs": [
    {
     "name": "stdout",
     "output_type": "stream",
     "text": [
      "3.466\n",
      "1.326\n",
      "-0.064205\n",
      "-0.079464\n",
      "0.513\n"
     ]
    }
   ],
   "source": [
    "scen = 'adaptive 2'\n",
    "print('{:1.3f}'.format(multi_eval.evaluators[scen].average[(0,0)]['avg_wait_time']))\n",
    "print('{:1.3f}'.format(multi_eval.evaluators[scen].average[(0,0)]['avg_queue_length']))\n",
    "print('{:1.6f}'.format(multi_eval.evaluators[scen].average[(0,0)]['avg_clearance_rate_ew']))\n",
    "print('{:1.6f}'.format(multi_eval.evaluators[scen].average[(0,0)]['avg_clearance_rate_ns']))\n",
    "print('{:1.3f}'.format(multi_eval.evaluators[scen].average[(0,0)]['arrivals_on_green_rate']))"
   ]
  },
  {
   "cell_type": "code",
   "execution_count": null,
   "id": "8dcd41a5-be9d-4a32-a2ab-6c5f7b79eea8",
   "metadata": {},
   "outputs": [],
   "source": []
  }
 ],
 "metadata": {
  "kernelspec": {
   "display_name": "Python 3 (ipykernel)",
   "language": "python",
   "name": "python3"
  },
  "language_info": {
   "codemirror_mode": {
    "name": "ipython",
    "version": 3
   },
   "file_extension": ".py",
   "mimetype": "text/x-python",
   "name": "python",
   "nbconvert_exporter": "python",
   "pygments_lexer": "ipython3",
   "version": "3.10.4"
  }
 },
 "nbformat": 4,
 "nbformat_minor": 5
}
