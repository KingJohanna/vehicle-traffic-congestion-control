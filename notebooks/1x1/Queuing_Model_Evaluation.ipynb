{
 "cells": [
  {
   "cell_type": "code",
   "execution_count": 1,
   "id": "9657706e-e624-4ac8-a5c0-3f314ce654c7",
   "metadata": {},
   "outputs": [],
   "source": [
    "import sys\n",
    "sys.path.append('../../src/')\n",
    "\n",
    "from TrafficLight import PeriodicTrafficLight, AdaptiveTrafficLight, TrafficLightMirror\n",
    "import Model1\n",
    "import Model2\n",
    "from ModelEvaluation import Evaluator, MultiEvaluator\n",
    "import matplotlib.pyplot as plt\n",
    "import math\n",
    "from pathlib import Path\n",
    "import dill as pickle"
   ]
  },
  {
   "cell_type": "code",
   "execution_count": 2,
   "id": "9cd290f5-c7f3-411e-9921-e329aa46a98d",
   "metadata": {},
   "outputs": [],
   "source": [
    "plt.rcParams.update({\n",
    "    \"text.usetex\": True,\n",
    "    \"font.family\": \"sans-serif\",\n",
    "    \"font.sans-serif\": [\"Helvetica\"]})"
   ]
  },
  {
   "cell_type": "code",
   "execution_count": 3,
   "id": "c0961eef-8594-4930-a2d2-9332080a2924",
   "metadata": {},
   "outputs": [],
   "source": [
    "output_path = '../../data/'"
   ]
  },
  {
   "cell_type": "code",
   "execution_count": 4,
   "id": "34b0900c-73ce-429f-a8a1-1162933ddf50",
   "metadata": {},
   "outputs": [],
   "source": [
    "def read_file(file_name, destination):\n",
    "    with open(Path(destination) / file_name, 'rb') as in_strm:\n",
    "        datastruct = pickle.load(in_strm)\n",
    "        return datastruct"
   ]
  },
  {
   "cell_type": "markdown",
   "id": "4507e40c-c0ff-4b27-90a0-59d2fc2be938",
   "metadata": {},
   "source": [
    "*Periodic traffic lights*"
   ]
  },
  {
   "cell_type": "code",
   "execution_count": 5,
   "id": "df4962d4-9cac-49fe-95da-642477f8452f",
   "metadata": {},
   "outputs": [],
   "source": [
    "periodic_ew = PeriodicTrafficLight()\n",
    "periodic_ew.initialize(period=30, time_delay=0)\n",
    "\n",
    "periodic_ns = TrafficLightMirror()\n",
    "periodic_ns.initialize(traffic_light=periodic_ew)"
   ]
  },
  {
   "cell_type": "markdown",
   "id": "80537b05-1611-4c5a-8186-0153ca389af8",
   "metadata": {},
   "source": [
    "*Adaptive traffic lights*"
   ]
  },
  {
   "cell_type": "code",
   "execution_count": 6,
   "id": "cc0d2604-257f-4c24-af6a-e4d5889214bc",
   "metadata": {},
   "outputs": [],
   "source": [
    "adaptive1_ew = AdaptiveTrafficLight()\n",
    "adaptive1_ew.initialize(sensor_depth=8, rule=1)\n",
    "\n",
    "adaptive1_ns = TrafficLightMirror()\n",
    "adaptive1_ns.initialize(traffic_light=adaptive1_ew)"
   ]
  },
  {
   "cell_type": "code",
   "execution_count": 7,
   "id": "794a6282-2c50-49df-b40d-4dde7f746b8a",
   "metadata": {},
   "outputs": [],
   "source": [
    "adaptive2_ew = AdaptiveTrafficLight()\n",
    "adaptive2_ew.initialize(sensor_depth=8, rule=2)\n",
    "\n",
    "adaptive2_ns = TrafficLightMirror()\n",
    "adaptive2_ns.initialize(traffic_light=adaptive2_ew)"
   ]
  },
  {
   "cell_type": "code",
   "execution_count": 8,
   "id": "6352cdce-5dc9-48c3-b081-bb754c2c59ed",
   "metadata": {},
   "outputs": [],
   "source": [
    "adaptive3_ew = AdaptiveTrafficLight()\n",
    "adaptive3_ew.initialize(sensor_depth=8, rule=3)\n",
    "\n",
    "adaptive3_ns = TrafficLightMirror()\n",
    "adaptive3_ns.initialize(traffic_light=adaptive3_ew)"
   ]
  },
  {
   "cell_type": "markdown",
   "id": "9e99a75a-d62b-4ab0-a4f3-51235cf20407",
   "metadata": {},
   "source": [
    "*Single four-way intersection*"
   ]
  },
  {
   "cell_type": "code",
   "execution_count": 9,
   "id": "8e144093-5c68-4164-bd1c-a0d5da481388",
   "metadata": {},
   "outputs": [],
   "source": [
    "nonhom = lambda t: 0.2/2*math.cos(2*math.pi/43200*t)+0.2/2+0.05\n",
    "hom = lambda t: 0.1\n",
    "standard = [1.]\n",
    "compound = [0.6,0.2,0.1,0.05,0.05]"
   ]
  },
  {
   "cell_type": "code",
   "execution_count": 10,
   "id": "5ad22833-a303-49f1-9526-ffc1fa1f5812",
   "metadata": {},
   "outputs": [],
   "source": [
    "standard_nonhom_network = Model1.IntersectionNetworkSimulator()\n",
    "standard_nonhom_network.initialize(grid_dimensions=(1,1))\n",
    "standard_nonhom_network.set_queue_rate_parameters(grid_ind=(0,0), avg_departure_time=0.5, arrival_rate_n=nonhom, arrival_rate_e=nonhom, arrival_rate_s=nonhom, arrival_rate_w=nonhom, platoon_size_distribution=standard)\n",
    "#standard_nonhom_network.set_traffic_lights(grid_ind=(0,0), traffic_light_ns=light_ns, traffic_light_ew=light_ew)\n",
    "standard_nonhom_network.set_observable_intersections(grid_inds=[(0,0)])"
   ]
  },
  {
   "cell_type": "code",
   "execution_count": 11,
   "id": "6b9a03f5-b7f1-455f-92a5-119f3108f65e",
   "metadata": {},
   "outputs": [],
   "source": [
    "standard_hom_network = Model1.IntersectionNetworkSimulator()\n",
    "standard_hom_network.initialize(grid_dimensions=(1,1))\n",
    "standard_hom_network.set_queue_rate_parameters(grid_ind=(0,0), avg_departure_time=0.5, arrival_rate_n=hom, arrival_rate_e=hom, arrival_rate_s=hom, arrival_rate_w=hom, platoon_size_distribution=standard)\n",
    "#standard_hom_network.set_traffic_lights(grid_ind=(0,0), traffic_light_ns=light_ns, traffic_light_ew=light_ew)\n",
    "standard_hom_network.set_observable_intersections(grid_inds=[(0,0)])"
   ]
  },
  {
   "cell_type": "code",
   "execution_count": 12,
   "id": "17618c09-bee1-4bef-9b36-924a73a76e06",
   "metadata": {},
   "outputs": [],
   "source": [
    "compound_nonhom_network = Model1.IntersectionNetworkSimulator()\n",
    "compound_nonhom_network.initialize(grid_dimensions=(1,1))\n",
    "compound_nonhom_network.set_queue_rate_parameters(grid_ind=(0,0), avg_departure_time=0.5, arrival_rate_n=nonhom, arrival_rate_e=nonhom, arrival_rate_s=nonhom, arrival_rate_w=nonhom, platoon_size_distribution=compound)\n",
    "#compound_nonhom_network.set_traffic_lights(grid_ind=(0,0), traffic_light_ns=light_ns, traffic_light_ew=light_ew)\n",
    "compound_nonhom_network.set_observable_intersections(grid_inds=[(0,0)])"
   ]
  },
  {
   "cell_type": "code",
   "execution_count": 13,
   "id": "d3612f2a-4a42-49c5-b46d-ee30834c1855",
   "metadata": {},
   "outputs": [],
   "source": [
    "compound_hom_network = Model1.IntersectionNetworkSimulator()\n",
    "compound_hom_network.initialize(grid_dimensions=(1,1))\n",
    "compound_hom_network.set_queue_rate_parameters(grid_ind=(0,0), avg_departure_time=0.5, arrival_rate_n=hom, arrival_rate_e=hom, arrival_rate_s=hom, arrival_rate_w=hom, platoon_size_distribution=compound)\n",
    "#compound_hom_network.set_traffic_lights(grid_ind=(0,0), traffic_light_ns=light_ns, traffic_light_ew=light_ew)\n",
    "compound_hom_network.set_observable_intersections(grid_inds=[(0,0)])"
   ]
  },
  {
   "cell_type": "markdown",
   "id": "e28468db-3b35-4213-8352-8d47036110d0",
   "metadata": {},
   "source": [
    "*Evaluation*"
   ]
  },
  {
   "cell_type": "code",
   "execution_count": null,
   "id": "c85c554d-aabf-414f-b5c1-5397550fc2ef",
   "metadata": {},
   "outputs": [],
   "source": [
    "evaluator = Evaluator()\n",
    "standard_hom_network.set_traffic_lights(grid_ind=(0,0), traffic_light_ns=periodic_ns, traffic_light_ew=periodic_ew)\n",
    "evaluator.initialize(network=standard_hom_network)\n",
    "output = evaluator.simulate(num_trials=10, end_time=43200, delta_t=0.1)\n",
    "average = evaluator.compute_average()\n",
    "\n",
    "evaluator.save_to_file(file_name='standard_hom_periodic.pkl', output_destination='../../data/evals/1x1')"
   ]
  },
  {
   "cell_type": "code",
   "execution_count": null,
   "id": "ec61534a-4e3d-45e5-9158-20d0f07bdec4",
   "metadata": {},
   "outputs": [],
   "source": [
    "evaluator = Evaluator()\n",
    "standard_hom_network.set_traffic_lights(grid_ind=(0,0), traffic_light_ns=adaptive1_ns, traffic_light_ew=adaptive1_ew)\n",
    "evaluator.initialize(network=standard_hom_network)\n",
    "output = evaluator.simulate(num_trials=10, end_time=43200, delta_t=0.1)\n",
    "average = evaluator.compute_average()\n",
    "\n",
    "evaluator.save_to_file(file_name='standard_hom_adaptive1.pkl', output_destination='../../data/evals/1x1')"
   ]
  },
  {
   "cell_type": "code",
   "execution_count": 14,
   "id": "bd998d6a-e57d-4471-9989-2379cf9a2383",
   "metadata": {},
   "outputs": [
    {
     "name": "stdout",
     "output_type": "stream",
     "text": [
      "Finished 10 trials.\n"
     ]
    }
   ],
   "source": [
    "evaluator = Evaluator()\n",
    "standard_hom_network.set_traffic_lights(grid_ind=(0,0), traffic_light_ns=adaptive2_ns, traffic_light_ew=adaptive2_ew)\n",
    "evaluator.initialize(network=standard_hom_network)\n",
    "output = evaluator.simulate(num_trials=10, end_time=43200, delta_t=0.1)\n",
    "average = evaluator.compute_average()\n",
    "\n",
    "evaluator.save_to_file(file_name='standard_hom_adaptive2.pkl', output_destination='../../data/evals/1x1')"
   ]
  },
  {
   "cell_type": "code",
   "execution_count": null,
   "id": "8633bd65-d0fe-4d61-a873-b4129d2d0f8c",
   "metadata": {},
   "outputs": [],
   "source": [
    "evaluator = Evaluator()\n",
    "standard_hom_network.set_traffic_lights(grid_ind=(0,0), traffic_light_ns=adaptive3_ns, traffic_light_ew=adaptive3_ew)\n",
    "evaluator.initialize(network=standard_hom_network)\n",
    "output = evaluator.simulate(num_trials=10, end_time=43200, delta_t=0.1)\n",
    "average = evaluator.compute_average()\n",
    "\n",
    "evaluator.save_to_file(file_name='standard_hom_adaptive3.pkl', output_destination='../../data/evals/1x1')"
   ]
  },
  {
   "cell_type": "code",
   "execution_count": null,
   "id": "f7937d7d-2315-43d5-ac8c-64fa6b80e269",
   "metadata": {},
   "outputs": [],
   "source": [
    "evaluator = Evaluator()\n",
    "standard_nonhom_network.set_traffic_lights(grid_ind=(0,0), traffic_light_ns=periodic_ns, traffic_light_ew=periodic_ew)\n",
    "evaluator.initialize(network=standard_nonhom_network)\n",
    "output = evaluator.simulate(num_trials=10, end_time=43200, delta_t=0.1)\n",
    "average = evaluator.compute_average()\n",
    "\n",
    "evaluator.save_to_file(file_name='standard_nonhom_periodic.pkl', output_destination='../../data/evals/1x1')"
   ]
  },
  {
   "cell_type": "code",
   "execution_count": null,
   "id": "2e4140aa-ad57-4f8d-b91a-21bf0918be9b",
   "metadata": {},
   "outputs": [],
   "source": [
    "evaluator = Evaluator()\n",
    "standard_nonhom_network.set_traffic_lights(grid_ind=(0,0), traffic_light_ns=adaptive1_ns, traffic_light_ew=adaptive1_ew)\n",
    "evaluator.initialize(network=standard_nonhom_network)\n",
    "output = evaluator.simulate(num_trials=10, end_time=43200, delta_t=0.1)\n",
    "average = evaluator.compute_average()\n",
    "\n",
    "evaluator.save_to_file(file_name='standard_nonhom_adaptive1.pkl', output_destination='../../data/evals/1x1')"
   ]
  },
  {
   "cell_type": "code",
   "execution_count": null,
   "id": "0c353e84-ed2f-4ef4-ac59-b91af786082c",
   "metadata": {},
   "outputs": [],
   "source": [
    "evaluator = Evaluator()\n",
    "standard_nonhom_network.set_traffic_lights(grid_ind=(0,0), traffic_light_ns=adaptive2_ns, traffic_light_ew=adaptive2_ew)\n",
    "evaluator.initialize(network=standard_nonhom_network)\n",
    "output = evaluator.simulate(num_trials=10, end_time=43200, delta_t=0.1)\n",
    "average = evaluator.compute_average()\n",
    "\n",
    "evaluator.save_to_file(file_name='standard_nonhom_adaptive2.pkl', output_destination='../../data/evals/1x1')"
   ]
  },
  {
   "cell_type": "code",
   "execution_count": null,
   "id": "95e9f08c-bb62-4393-b1d1-56c77e2c64bf",
   "metadata": {},
   "outputs": [],
   "source": [
    "evaluator = Evaluator()\n",
    "standard_nonhom_network.set_traffic_lights(grid_ind=(0,0), traffic_light_ns=adaptive3_ns, traffic_light_ew=adaptive3_ew)\n",
    "evaluator.initialize(network=standard_nonhom_network)\n",
    "output = evaluator.simulate(num_trials=10, end_time=43200, delta_t=0.1)\n",
    "average = evaluator.compute_average()\n",
    "\n",
    "evaluator.save_to_file(file_name='standard_nonhom_adaptive3.pkl', output_destination='../../data/evals/1x1')"
   ]
  },
  {
   "cell_type": "code",
   "execution_count": null,
   "id": "02e0f7d4-6b2c-4d0c-a3ca-2d0182ff5e57",
   "metadata": {},
   "outputs": [],
   "source": [
    "evaluator = Evaluator()\n",
    "compound_hom_network.set_traffic_lights(grid_ind=(0,0), traffic_light_ns=periodic_ns, traffic_light_ew=periodic_ew)\n",
    "evaluator.initialize(network=compound_hom_network)\n",
    "output = evaluator.simulate(num_trials=10, end_time=43200, delta_t=0.1)\n",
    "average = evaluator.compute_average()\n",
    "\n",
    "evaluator.save_to_file(file_name='compound_hom_periodic.pkl', output_destination='../../data/evals/1x1')"
   ]
  },
  {
   "cell_type": "code",
   "execution_count": null,
   "id": "6e480fbc-be47-4316-afb0-842c9ae0a683",
   "metadata": {},
   "outputs": [],
   "source": [
    "evaluator = Evaluator()\n",
    "compound_hom_network.set_traffic_lights(grid_ind=(0,0), traffic_light_ns=adaptive1_ns, traffic_light_ew=adaptive1_ew)\n",
    "evaluator.initialize(network=compound_hom_network)\n",
    "output = evaluator.simulate(num_trials=10, end_time=43200, delta_t=0.1)\n",
    "average = evaluator.compute_average()\n",
    "\n",
    "evaluator.save_to_file(file_name='compound_hom_adaptive1.pkl', output_destination='../../data/evals/1x1')"
   ]
  },
  {
   "cell_type": "code",
   "execution_count": null,
   "id": "ffccbf4e-299b-4eaf-9d9d-e01555875c26",
   "metadata": {},
   "outputs": [],
   "source": [
    "evaluator = Evaluator()\n",
    "compound_hom_network.set_traffic_lights(grid_ind=(0,0), traffic_light_ns=adaptive2_ns, traffic_light_ew=adaptive2_ew)\n",
    "evaluator.initialize(network=compound_hom_network)\n",
    "output = evaluator.simulate(num_trials=10, end_time=43200, delta_t=0.1)\n",
    "average = evaluator.compute_average()\n",
    "\n",
    "evaluator.save_to_file(file_name='compound_hom_adaptive2.pkl', output_destination='../../data/evals/1x1')"
   ]
  },
  {
   "cell_type": "code",
   "execution_count": null,
   "id": "cfd78339-e49e-4876-b4bb-9e3ca67ba7a8",
   "metadata": {},
   "outputs": [],
   "source": [
    "evaluator = Evaluator()\n",
    "compound_hom_network.set_traffic_lights(grid_ind=(0,0), traffic_light_ns=adaptive3_ns, traffic_light_ew=adaptive3_ew)\n",
    "evaluator.initialize(network=compound_hom_network)\n",
    "output = evaluator.simulate(num_trials=10, end_time=43200, delta_t=0.1)\n",
    "average = evaluator.compute_average()\n",
    "\n",
    "evaluator.save_to_file(file_name='compound_hom_adaptive3.pkl', output_destination='../../data/evals/1x1')"
   ]
  },
  {
   "cell_type": "code",
   "execution_count": null,
   "id": "350d6f9e-74ed-44fe-822d-0b804679af50",
   "metadata": {},
   "outputs": [],
   "source": [
    "evaluator = Evaluator()\n",
    "compound_nonhom_network.set_traffic_lights(grid_ind=(0,0), traffic_light_ns=periodic_ns, traffic_light_ew=periodic_ew)\n",
    "evaluator.initialize(network=compound_nonhom_network)\n",
    "output = evaluator.simulate(num_trials=10, end_time=43200, delta_t=0.1)\n",
    "average = evaluator.compute_average()\n",
    "\n",
    "evaluator.save_to_file(file_name='compound_nonhom_periodic.pkl', output_destination='../../data/evals/1x1')"
   ]
  },
  {
   "cell_type": "code",
   "execution_count": null,
   "id": "67f0ee31-05bb-40f1-be89-13f617d8e4a7",
   "metadata": {},
   "outputs": [],
   "source": [
    "evaluator = Evaluator()\n",
    "compound_nonhom_network.set_traffic_lights(grid_ind=(0,0), traffic_light_ns=adaptive1_ns, traffic_light_ew=adaptive1_ew)\n",
    "evaluator.initialize(network=compound_nonhom_network)\n",
    "output = evaluator.simulate(num_trials=10, end_time=43200, delta_t=0.1)\n",
    "average = evaluator.compute_average()\n",
    "\n",
    "evaluator.save_to_file(file_name='compound_nonhom_adaptive1.pkl', output_destination='../../data/evals/1x1')"
   ]
  },
  {
   "cell_type": "code",
   "execution_count": null,
   "id": "92b36037-5d73-4f59-a640-c9bdcffc2960",
   "metadata": {},
   "outputs": [],
   "source": [
    "evaluator = Evaluator()\n",
    "compound_nonhom_network.set_traffic_lights(grid_ind=(0,0), traffic_light_ns=adaptive2_ns, traffic_light_ew=adaptive2_ew)\n",
    "evaluator.initialize(network=compound_nonhom_network)\n",
    "output = evaluator.simulate(num_trials=10, end_time=43200, delta_t=0.1)\n",
    "average = evaluator.compute_average()\n",
    "\n",
    "evaluator.save_to_file(file_name='compound_nonhom_adaptive2.pkl', output_destination='../../data/evals/1x1')"
   ]
  },
  {
   "cell_type": "code",
   "execution_count": null,
   "id": "f775ede6-0026-4a3c-af54-f65169462189",
   "metadata": {},
   "outputs": [],
   "source": [
    "evaluator = Evaluator()\n",
    "compound_nonhom_network.set_traffic_lights(grid_ind=(0,0), traffic_light_ns=adaptive3_ns, traffic_light_ew=adaptive3_ew)\n",
    "evaluator.initialize(network=compound_nonhom_network)\n",
    "output = evaluator.simulate(num_trials=10, end_time=43200, delta_t=0.1)\n",
    "average = evaluator.compute_average()\n",
    "\n",
    "evaluator.save_to_file(file_name='compound_nonhom_adaptive3.pkl', output_destination='../../data/evals/1x1')"
   ]
  },
  {
   "cell_type": "markdown",
   "id": "b14abbd6-b31f-4dba-969f-119b6cb5e70b",
   "metadata": {},
   "source": [
    "Compare the traffic lights for each queuing model"
   ]
  },
  {
   "cell_type": "code",
   "execution_count": null,
   "id": "89ccd226-23ae-4924-b765-49d460944d9a",
   "metadata": {},
   "outputs": [],
   "source": [
    "evaluators = []\n",
    "evaluator = read_file(file_name=\"standard_hom_periodic.pkl\", destination=\"../../data/evals/1x1\")\n",
    "evaluators += [evaluator]\n",
    "evaluator = read_file(file_name=\"standard_hom_adaptive1.pkl\", destination=\"../../data/evals/1x1\")\n",
    "evaluators += [evaluator]\n",
    "evaluator = read_file(file_name=\"standard_hom_adaptive2.pkl\", destination=\"../../data/evals/1x1\")\n",
    "evaluators += [evaluator]"
   ]
  },
  {
   "cell_type": "code",
   "execution_count": null,
   "id": "ab2769ed-4186-4fc5-9852-58b3c36d11d9",
   "metadata": {},
   "outputs": [],
   "source": [
    "evaluators = []\n",
    "evaluator = read_file(file_name=\"standard_nonhom_periodic.pkl\", destination=\"../../data/evals/1x1\")\n",
    "evaluators += [evaluator]\n",
    "evaluator = read_file(file_name=\"standard_nonhom_adaptive1.pkl\", destination=\"../../data/evals/1x1\")\n",
    "evaluators += [evaluator]\n",
    "evaluator = read_file(file_name=\"standard_nonhom_adaptive2.pkl\", destination=\"../../data/evals/1x1\")\n",
    "evaluators += [evaluator]"
   ]
  },
  {
   "cell_type": "code",
   "execution_count": null,
   "id": "c7686634-8659-41e0-84ca-b237353e23fc",
   "metadata": {},
   "outputs": [],
   "source": [
    "evaluators = []\n",
    "evaluator = read_file(file_name=\"compound_nonhom_periodic.pkl\", destination=\"../../data/evals/1x1\")\n",
    "evaluators += [evaluator]\n",
    "evaluator = read_file(file_name=\"compound_nonhom_adaptive1.pkl\", destination=\"../../data/evals/1x1\")\n",
    "evaluators += [evaluator]\n",
    "evaluator = read_file(file_name=\"compound_nonhom_adaptive2.pkl\", destination=\"../../data/evals/1x1\")\n",
    "evaluators += [evaluator]"
   ]
  },
  {
   "cell_type": "code",
   "execution_count": null,
   "id": "df25328f-8839-4f9d-a73c-4359185846f2",
   "metadata": {},
   "outputs": [],
   "source": [
    "evaluators = []\n",
    "evaluator = read_file(file_name=\"compound_hom_periodic.pkl\", destination=\"../../data/evals/1x1\")\n",
    "evaluators += [evaluator]\n",
    "evaluator = read_file(file_name=\"compound_hom_adaptive1.pkl\", destination=\"../../data/evals/1x1\")\n",
    "evaluators += [evaluator]\n",
    "evaluator = read_file(file_name=\"compound_hom_adaptive2.pkl\", destination=\"../../data/evals/1x1\")\n",
    "evaluators += [evaluator]"
   ]
  },
  {
   "cell_type": "code",
   "execution_count": null,
   "id": "1b3c335c-472f-4402-98e1-85a03e512cb4",
   "metadata": {},
   "outputs": [],
   "source": [
    "multi_eval = MultiEvaluator()\n",
    "multi_eval.initialize(evaluators=evaluators, labels=[\"$A_3$\", \"$B_3$\", \"$C_3$\"], variable=\"Scenario\")"
   ]
  },
  {
   "cell_type": "code",
   "execution_count": null,
   "id": "76783251-e6f7-4219-aac8-f9851dbea0a8",
   "metadata": {},
   "outputs": [],
   "source": [
    "save_to_file(multi_eval, file_name=\"queuing_model.pkl\", output_destination=\"../../data/evals/multi\")"
   ]
  },
  {
   "cell_type": "code",
   "execution_count": null,
   "id": "f9714a7c-702f-436d-921c-3755d1833e75",
   "metadata": {},
   "outputs": [],
   "source": [
    "fig,axs = multi_eval.plot_intersection_averages(plt=plt, grid_ind=(0,0), fig_size=(12,6), plot_tot_switches=False)\n",
    "plt.savefig(output_path+'figs/compound_nonhom_avgs', bbox_inches='tight')"
   ]
  },
  {
   "cell_type": "code",
   "execution_count": null,
   "id": "2c7e8c06-4ce1-41a2-8b51-3cd973e6f160",
   "metadata": {},
   "outputs": [],
   "source": [
    "fig,axs = multi_eval.plot_queue_averages(plt=plt, grid_ind=(0,0), fig_size=(4,5))\n",
    "plt.savefig(output_path+'figs/queue_avgs', bbox_inches='tight')"
   ]
  },
  {
   "cell_type": "code",
   "execution_count": null,
   "id": "2b6f316d-2227-4c3b-9f51-fdfbb315fb82",
   "metadata": {},
   "outputs": [],
   "source": [
    "fig,axs = multi_eval.plot_avg_wait_times(plt=plt, fig_size=(7,2))\n",
    "plt.savefig(output_path+'figs/wait_times', bbox_inches='tight')"
   ]
  },
  {
   "cell_type": "code",
   "execution_count": null,
   "id": "06e7d5b8-f3d5-4ce7-96a2-19d16cdb4d21",
   "metadata": {},
   "outputs": [],
   "source": [
    "fig,ax = multi_eval.compare_metrics(plt=plt, x_axis=\"tot_switches_ew\", y_axis=\"avg_wait_time\", grid_ind=(0,0), fig_size=(4,3))\n",
    "ax.set(xlabel=\"green-to-red switches (EW)\", ylabel=\"avg. wait time [s]\")\n",
    "ax.set_title(\"Average cumulative waiting time vs. red-to-green switches\")\n",
    "plt.savefig(output_path+'figs/payoff', bbox_inches='tight')"
   ]
  },
  {
   "cell_type": "code",
   "execution_count": null,
   "id": "9bfd22d9-3053-4ccb-844b-e9c6663f4d10",
   "metadata": {},
   "outputs": [],
   "source": [
    "base = '$A_3$'\n",
    "scen = '$B_3$'\n",
    "\n",
    "x1_b = '{:1.3f}'.format(multi_eval.evaluators[base].average[(0,0)]['avg_wait_time'])\n",
    "x2_b = '{:1.3f}'.format(multi_eval.evaluators[base].average[(0,0)]['avg_queue_length'])\n",
    "y1_b = '{:1.6f}'.format(multi_eval.evaluators[base].average[(0,0)]['avg_clearance_rate_ew'])\n",
    "y2_b = '{:1.6f}'.format(multi_eval.evaluators[base].average[(0,0)]['avg_clearance_rate_ns'])\n",
    "\n",
    "x1 = '{:1.3f}'.format(multi_eval.evaluators[scen].average[(0,0)]['avg_wait_time'])\n",
    "x2 = '{:1.3f}'.format(multi_eval.evaluators[scen].average[(0,0)]['avg_queue_length'])\n",
    "y1 = '{:1.6f}'.format(multi_eval.evaluators[scen].average[(0,0)]['avg_clearance_rate_ew'])\n",
    "y2 = '{:1.6f}'.format(multi_eval.evaluators[scen].average[(0,0)]['avg_clearance_rate_ns'])\n",
    "#y2 = '{:1.3f}'.format(multi_eval.evaluators[scen].average[(0,0)]['arrivals_on_green_rate']))\n",
    "\n",
    "print(x1, \"&\", x2, \"&\",  '{:1.1%}'.format((float(x1)-float(x1_b))/float(x1_b)), \"&\", '{:1.1%}'.format((float(x2)-float(x2_b))/float(x2_b)))\n",
    "print(y1, \"1/s\", \"&\", y2, \"1/s\")"
   ]
  },
  {
   "cell_type": "code",
   "execution_count": null,
   "id": "8dcd41a5-be9d-4a32-a2ab-6c5f7b79eea8",
   "metadata": {},
   "outputs": [],
   "source": []
  }
 ],
 "metadata": {
  "kernelspec": {
   "display_name": "Python 3 (ipykernel)",
   "language": "python",
   "name": "python3"
  },
  "language_info": {
   "codemirror_mode": {
    "name": "ipython",
    "version": 3
   },
   "file_extension": ".py",
   "mimetype": "text/x-python",
   "name": "python",
   "nbconvert_exporter": "python",
   "pygments_lexer": "ipython3",
   "version": "3.10.4"
  }
 },
 "nbformat": 4,
 "nbformat_minor": 5
}
