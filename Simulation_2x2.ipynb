{
 "cells": [
  {
   "cell_type": "code",
   "execution_count": 1,
   "id": "6cc4a7fc-d746-4a08-b1f3-26a97f7a8d19",
   "metadata": {},
   "outputs": [],
   "source": [
    "from TrafficLight import PeriodicTrafficLight, MemoryLessTrafficLight, AdaptiveTrafficLight, TrafficLightMirror\n",
    "import Model1\n",
    "import Model2\n",
    "import matplotlib.pyplot as plt\n",
    "import numpy as np\n",
    "from IPython.display import HTML"
   ]
  },
  {
   "cell_type": "markdown",
   "id": "0e77d77b-8dae-423d-b9b4-9681956abe2a",
   "metadata": {},
   "source": [
    "**Traffic lights**"
   ]
  },
  {
   "cell_type": "code",
   "execution_count": 2,
   "id": "4a063045-a4dc-4619-9527-e0130c356cb0",
   "metadata": {},
   "outputs": [],
   "source": [
    "periodic_ew1 = PeriodicTrafficLight()\n",
    "periodic_ew1.initialize(period=30, time_delay=0)\n",
    "\n",
    "periodic_ns1 = TrafficLightMirror()\n",
    "periodic_ns1.initialize(traffic_light=periodic_ew1)\n",
    "\n",
    "periodic_ew2 = PeriodicTrafficLight()\n",
    "periodic_ew2.initialize(period=60, time_delay=10)\n",
    "\n",
    "periodic_ns2 = TrafficLightMirror()\n",
    "periodic_ns2.initialize(traffic_light=periodic_ew2)"
   ]
  },
  {
   "cell_type": "code",
   "execution_count": 6,
   "id": "a260712f-ae3c-4cdc-a50e-6e0c0a9cb105",
   "metadata": {},
   "outputs": [],
   "source": [
    "adaptive_ew1 = AdaptiveTrafficLight()\n",
    "adaptive_ew1.initialize(sensor_depth=8, rule=1)\n",
    "\n",
    "adaptive_ns1 = TrafficLightMirror()\n",
    "adaptive_ns1.initialize(traffic_light=adaptive_ew1)\n",
    "\n",
    "adaptive_ew2 = AdaptiveTrafficLight()\n",
    "adaptive_ew2.initialize(sensor_depth=8, rule=1)\n",
    "\n",
    "adaptive_ns2 = TrafficLightMirror()\n",
    "adaptive_ns2.initialize(traffic_light=adaptive_ew2)"
   ]
  },
  {
   "cell_type": "code",
   "execution_count": 4,
   "id": "f46637de-bc43-4345-b9e7-9b09255c4735",
   "metadata": {},
   "outputs": [
    {
     "ename": "NameError",
     "evalue": "name 'MemoryLessTrafficLightMirror' is not defined",
     "output_type": "error",
     "traceback": [
      "\u001b[0;31m---------------------------------------------------------------------------\u001b[0m",
      "\u001b[0;31mNameError\u001b[0m                                 Traceback (most recent call last)",
      "Input \u001b[0;32mIn [4]\u001b[0m, in \u001b[0;36m<cell line: 4>\u001b[0;34m()\u001b[0m\n\u001b[1;32m      1\u001b[0m memoryless_ew1 \u001b[38;5;241m=\u001b[39m MemoryLessTrafficLight()\n\u001b[1;32m      2\u001b[0m memoryless_ew1\u001b[38;5;241m.\u001b[39minitialize(green_to_red_rate\u001b[38;5;241m=\u001b[39m\u001b[38;5;241m1\u001b[39m\u001b[38;5;241m/\u001b[39m\u001b[38;5;241m60\u001b[39m, red_to_green_rate\u001b[38;5;241m=\u001b[39m\u001b[38;5;241m1\u001b[39m\u001b[38;5;241m/\u001b[39m\u001b[38;5;241m60\u001b[39m)\n\u001b[0;32m----> 4\u001b[0m memoryless_ns1 \u001b[38;5;241m=\u001b[39m \u001b[43mMemoryLessTrafficLightMirror\u001b[49m()\n\u001b[1;32m      5\u001b[0m memoryless_ns1\u001b[38;5;241m.\u001b[39minitialize(traffic_light\u001b[38;5;241m=\u001b[39mmemoryless_ew1)\n\u001b[1;32m      7\u001b[0m memoryless_ew2 \u001b[38;5;241m=\u001b[39m MemoryLessTrafficLight()\n",
      "\u001b[0;31mNameError\u001b[0m: name 'MemoryLessTrafficLightMirror' is not defined"
     ]
    }
   ],
   "source": [
    "memoryless_ew1 = MemoryLessTrafficLight()\n",
    "memoryless_ew1.initialize(green_to_red_rate=1/60, red_to_green_rate=1/60)\n",
    "\n",
    "memoryless_ns1 = TrafficLightMirror()\n",
    "memoryless_ns1.initialize(traffic_light=memoryless_ew1)\n",
    "\n",
    "memoryless_ew2 = MemoryLessTrafficLight()\n",
    "memoryless_ew2.initialize(green_to_red_rate=1/60, red_to_green_rate=1/60)\n",
    "\n",
    "memoryless_ns2 = TrafficLightMirror()\n",
    "memoryless_ns2.initialize(traffic_light=memoryless_ew2)"
   ]
  },
  {
   "cell_type": "markdown",
   "id": "d2f5d6a9-d971-4f1f-80bd-be41206194d5",
   "metadata": {},
   "source": [
    "**Intersection network**\n",
    "\n",
    "*M/M/1 queue model*\n",
    "\n",
    "The following intersection network consists of two four-way intersections in a 1x2 grid, each 30 m wide and 250 m apart. Each vehicle moves 14 m/s (50.4 km/h) at full speed."
   ]
  },
  {
   "cell_type": "code",
   "execution_count": 7,
   "id": "39ea5b8b-76e0-4180-baa2-33138394f91d",
   "metadata": {},
   "outputs": [],
   "source": [
    "network_1 = Model1.IntersectionNetworkSimulator()\n",
    "network_1.initialize(grid_dimensions=(1,2), grid_distance=250)\n",
    "network_1.set_queue_rate_parameters(grid_ind=(0,0), avg_departure_time=2, avg_arrival_time_n=10, avg_arrival_time_s=10, avg_arrival_time_e=10)\n",
    "network_1.set_queue_rate_parameters(grid_ind=(0,1), avg_departure_time=2, avg_arrival_time_n=10, avg_arrival_time_s=10, avg_arrival_time_w=10)\n",
    "network_1.set_traffic_lights(grid_ind=(0,0), traffic_light_ns=adaptive_ns1, traffic_light_ew=adaptive_ew1)\n",
    "network_1.set_traffic_lights(grid_ind=(0,1), traffic_light_ns=adaptive_ns2, traffic_light_ew=adaptive_ew2)\n",
    "network_1.set_observable_intersections(grid_inds=network_1.grid_inds)"
   ]
  },
  {
   "cell_type": "code",
   "execution_count": 8,
   "id": "dd5b49aa-7979-4f4c-8e62-1df1001f9822",
   "metadata": {},
   "outputs": [
    {
     "data": {
      "image/png": "[encoded data removed]",
      "text/plain": [
       "<Figure size 720x360 with 1 Axes>"
      ]
     },
     "metadata": {
      "needs_background": "light"
     },
     "output_type": "display_data"
    }
   ],
   "source": [
    "network_1.simulate(delta_t=0.1, end_time=100, animate=True, fig_width=8, file_name=\"figs/simulation_1x2.mp4\", speed=1)"
   ]
  },
  {
   "cell_type": "markdown",
   "id": "ce07a1f8-eb58-49e8-bcf9-a58cd8469f06",
   "metadata": {},
   "source": [
    "View the video below."
   ]
  },
  {
   "cell_type": "code",
   "execution_count": 9,
   "id": "db81daff-5832-4c25-b48f-6d48da622bbe",
   "metadata": {},
   "outputs": [
    {
     "data": {
      "text/html": [
       "\n",
       "<div align=\"middle\">\n",
       "<video width=\"80%\" controls>\n",
       "      <source src=\"figs/simulation_1x2.mp4\" type=\"video/mp4\">\n",
       "</video></div>"
      ],
      "text/plain": [
       "<IPython.core.display.HTML object>"
      ]
     },
     "execution_count": 9,
     "metadata": {},
     "output_type": "execute_result"
    }
   ],
   "source": [
    "HTML(\"\"\"\n",
    "<div align=\"middle\">\n",
    "<video width=\"80%\" controls>\n",
    "      <source src=\"figs/simulation_1x2.mp4\" type=\"video/mp4\">\n",
    "</video></div>\"\"\")"
   ]
  },
  {
   "cell_type": "markdown",
   "id": "8f914eb3-5626-49b7-8b22-4d7011a7a814",
   "metadata": {},
   "source": [
    "Dictionary with simulation stats."
   ]
  },
  {
   "cell_type": "code",
   "execution_count": null,
   "id": "c979dfe3-f9d0-4f87-b79c-6b232fbd6184",
   "metadata": {},
   "outputs": [],
   "source": [
    "stats = network_1.get_stats()\n",
    "print(\"Average wait time:\", stats[(0,0)][\"N\"][\"wait_time\"], \"s\")"
   ]
  },
  {
   "cell_type": "code",
   "execution_count": null,
   "id": "0812a878-6725-468f-b351-1ecf881d37a0",
   "metadata": {},
   "outputs": [],
   "source": [
    "fig, axs = network_1.plot_queue_stats(plt=plt, grid_ind=(0,0), direction='N', end_time=100, delta_t=0.1, traffic_light=adaptive_ns1,fig_size=(6,8))\n",
    "#plt.savefig('figs/eastbound_(0,0)', bbox_inches='tight')"
   ]
  },
  {
   "cell_type": "markdown",
   "id": "467d4d9b-7cd8-4643-a92d-cf06eeafabe0",
   "metadata": {},
   "source": [
    "*Single queue with on/off memoryless service*"
   ]
  },
  {
   "cell_type": "code",
   "execution_count": null,
   "id": "a416b29d-ad03-484c-9c53-9e248f4ce163",
   "metadata": {},
   "outputs": [],
   "source": [
    "network_2 = Model2.IntersectionNetworkSimulator()\n",
    "network_2.initialize(grid_dimensions=(1,2), grid_distance=250)\n",
    "network_2.set_queue_rate_parameters(grid_ind=(0,0), avg_departure_time=2, avg_arrival_time_n=10, avg_arrival_time_s=10, avg_arrival_time_e=10)\n",
    "network_2.set_queue_rate_parameters(grid_ind=(0,1), avg_departure_time=2, avg_arrival_time_n=10, avg_arrival_time_s=10, avg_arrival_time_w=10)\n",
    "network_2.set_traffic_lights(grid_ind=(0,0), traffic_light_ns=memoryless_ns1, traffic_light_ew=memoryless_ew1)\n",
    "network_2.set_traffic_lights(grid_ind=(0,1), traffic_light_ns=memoryless_ns2, traffic_light_ew=memoryless_ew2)"
   ]
  },
  {
   "cell_type": "code",
   "execution_count": null,
   "id": "65275e8d-7a77-4d99-84cc-b5f8c9af2f7d",
   "metadata": {},
   "outputs": [],
   "source": [
    "network_2.simulate(delta_t=0.1, end_time=100, animate=True, fig_size=(8,10), file_name=\"figs/simulation2.mp4\", speed=3)"
   ]
  },
  {
   "cell_type": "code",
   "execution_count": null,
   "id": "16d2ff68-9364-4514-b65b-44e733f16a0c",
   "metadata": {},
   "outputs": [],
   "source": [
    "HTML(\"\"\"\n",
    "<div align=\"middle\">\n",
    "<video width=\"80%\" controls>\n",
    "      <source src=\"figs/simulation2.mp4\" type=\"video/mp4\">\n",
    "</video></div>\"\"\")"
   ]
  },
  {
   "cell_type": "code",
   "execution_count": null,
   "id": "ae90de54-c0d2-468c-8d49-88fd37e8b990",
   "metadata": {},
   "outputs": [],
   "source": [
    "stats = network_2.get_stats()\n",
    "print(\"Average wait time:\", stats[(0,0)][\"N\"][\"wait_time\"], \"s\")"
   ]
  },
  {
   "cell_type": "code",
   "execution_count": null,
   "id": "305782a4-2cee-4059-8d23-80d9ff911ed2",
   "metadata": {},
   "outputs": [],
   "source": [
    "fig, axs = network_2.plot_queue_stats(plt=plt, grid_ind=(0,0), direction='N', end_time=round(network_2.time), delta_t=0.1, fig_size=(8,10))\n",
    "#plt.savefig('figs/northbound_(0,0)', bbox_inches='tight')"
   ]
  },
  {
   "cell_type": "code",
   "execution_count": null,
   "id": "82c01c61-d33c-4795-833a-5d15724d677a",
   "metadata": {},
   "outputs": [],
   "source": []
  },
  {
   "cell_type": "code",
   "execution_count": null,
   "id": "873146a6-4e90-4725-9379-58df1ee5c558",
   "metadata": {},
   "outputs": [],
   "source": [
    "bool(-0.0)"
   ]
  },
  {
   "cell_type": "code",
   "execution_count": null,
   "id": "ad3dc459-cbc7-4754-bcf5-d76e012a4c8c",
   "metadata": {},
   "outputs": [],
   "source": []
  }
 ],
 "metadata": {
  "kernelspec": {
   "display_name": "Python 3 (ipykernel)",
   "language": "python",
   "name": "python3"
  },
  "language_info": {
   "codemirror_mode": {
    "name": "ipython",
    "version": 3
   },
   "file_extension": ".py",
   "mimetype": "text/x-python",
   "name": "python",
   "nbconvert_exporter": "python",
   "pygments_lexer": "ipython3",
   "version": "3.10.4"
  }
 },
 "nbformat": 4,
 "nbformat_minor": 5
}
